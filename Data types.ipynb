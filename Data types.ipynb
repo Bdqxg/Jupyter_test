{
 "cells": [
  {
   "cell_type": "code",
   "execution_count": 1,
   "id": "aaa9d93f-d99d-4f93-8290-c1028f56c727",
   "metadata": {},
   "outputs": [
    {
     "data": {
      "text/plain": [
       "int"
      ]
     },
     "execution_count": 1,
     "metadata": {},
     "output_type": "execute_result"
    }
   ],
   "source": [
    "type(12)"
   ]
  },
  {
   "cell_type": "code",
   "execution_count": 2,
   "id": "6b9c307c-15d9-4b2f-be81-9bf5eb8a11d9",
   "metadata": {},
   "outputs": [
    {
     "data": {
      "text/plain": [
       "int"
      ]
     },
     "execution_count": 2,
     "metadata": {},
     "output_type": "execute_result"
    }
   ],
   "source": [
    "type(-12)"
   ]
  },
  {
   "cell_type": "code",
   "execution_count": 3,
   "id": "4d2d9f90-ead4-407b-acb4-441cb0127023",
   "metadata": {},
   "outputs": [
    {
     "data": {
      "text/plain": [
       "int"
      ]
     },
     "execution_count": 3,
     "metadata": {},
     "output_type": "execute_result"
    }
   ],
   "source": [
    "type(-12+100)\n",
    "type(12)"
   ]
  },
  {
   "cell_type": "code",
   "execution_count": 4,
   "id": "48ba3986-ac48-4d9e-a0ec-d0b512763491",
   "metadata": {},
   "outputs": [
    {
     "data": {
      "text/plain": [
       "float"
      ]
     },
     "execution_count": 4,
     "metadata": {},
     "output_type": "execute_result"
    }
   ],
   "source": [
    "type(12+10.25)"
   ]
  },
  {
   "cell_type": "code",
   "execution_count": 5,
   "id": "49878375-93c4-4386-b31b-d6b90b29100b",
   "metadata": {},
   "outputs": [
    {
     "data": {
      "text/plain": [
       "complex"
      ]
     },
     "execution_count": 5,
     "metadata": {},
     "output_type": "execute_result"
    }
   ],
   "source": [
    "type(12+3j)"
   ]
  },
  {
   "cell_type": "code",
   "execution_count": 8,
   "id": "518d083d-8bc7-4698-91a6-193c33ccc0ee",
   "metadata": {},
   "outputs": [
    {
     "ename": "SyntaxError",
     "evalue": "invalid decimal literal (3008095383.py, line 1)",
     "output_type": "error",
     "traceback": [
      "\u001b[0;36m  Cell \u001b[0;32mIn[8], line 1\u001b[0;36m\u001b[0m\n\u001b[0;31m    type(12+3c)\u001b[0m\n\u001b[0m            ^\u001b[0m\n\u001b[0;31mSyntaxError\u001b[0m\u001b[0;31m:\u001b[0m invalid decimal literal\n"
     ]
    }
   ],
   "source": [
    "type(12+3c)\n",
    "#error  only j can be used as imaginarial number"
   ]
  },
  {
   "cell_type": "code",
   "execution_count": 11,
   "id": "f7b5972f-7bc5-469a-84b6-23a3eb546432",
   "metadata": {},
   "outputs": [
    {
     "data": {
      "text/plain": [
       "bool"
      ]
     },
     "execution_count": 11,
     "metadata": {},
     "output_type": "execute_result"
    }
   ],
   "source": [
    "#Boolean\n",
    "#true false\n",
    "type(True)\n",
    "#type(true) not work\n"
   ]
  },
  {
   "cell_type": "code",
   "execution_count": 12,
   "id": "0a39f826-27c6-43cc-8d5a-a178eab5b263",
   "metadata": {},
   "outputs": [
    {
     "data": {
      "text/plain": [
       "bool"
      ]
     },
     "execution_count": 12,
     "metadata": {},
     "output_type": "execute_result"
    }
   ],
   "source": [
    "type(False)"
   ]
  },
  {
   "cell_type": "code",
   "execution_count": 13,
   "id": "66447c8c-a0b4-43e5-bd81-17cd91a5e663",
   "metadata": {},
   "outputs": [
    {
     "data": {
      "text/plain": [
       "bool"
      ]
     },
     "execution_count": 13,
     "metadata": {},
     "output_type": "execute_result"
    }
   ],
   "source": [
    "type(1)\n",
    "type(False)"
   ]
  },
  {
   "cell_type": "code",
   "execution_count": 14,
   "id": "682c75ff-6d7d-42a4-8c69-ae4f4c6e339b",
   "metadata": {},
   "outputs": [
    {
     "data": {
      "text/plain": [
       "int"
      ]
     },
     "execution_count": 14,
     "metadata": {},
     "output_type": "execute_result"
    }
   ],
   "source": [
    "type(False)\n",
    "type(1)"
   ]
  },
  {
   "cell_type": "code",
   "execution_count": 15,
   "id": "214f1217-50c7-4f2c-bd0c-9ceb45a38469",
   "metadata": {},
   "outputs": [
    {
     "data": {
      "text/plain": [
       "bool"
      ]
     },
     "execution_count": 15,
     "metadata": {},
     "output_type": "execute_result"
    }
   ],
   "source": [
    "type(1>5)"
   ]
  },
  {
   "cell_type": "code",
   "execution_count": 16,
   "id": "f573fd3e-a27d-4358-8085-d9c501c98da1",
   "metadata": {},
   "outputs": [
    {
     "data": {
      "text/plain": [
       "False"
      ]
     },
     "execution_count": 16,
     "metadata": {},
     "output_type": "execute_result"
    }
   ],
   "source": [
    "1>5"
   ]
  },
  {
   "cell_type": "code",
   "execution_count": 17,
   "id": "d507340d-3238-483b-ba85-7afaff5872a5",
   "metadata": {},
   "outputs": [
    {
     "data": {
      "text/plain": [
       "True"
      ]
     },
     "execution_count": 17,
     "metadata": {},
     "output_type": "execute_result"
    }
   ],
   "source": [
    "1==1"
   ]
  },
  {
   "cell_type": "code",
   "execution_count": 18,
   "id": "59866d6a-6819-4aab-9ba8-7398d9a29463",
   "metadata": {},
   "outputs": [
    {
     "data": {
      "text/plain": [
       "'Single Quote'"
      ]
     },
     "execution_count": 18,
     "metadata": {},
     "output_type": "execute_result"
    }
   ],
   "source": [
    "#Strings\n",
    "'Single Quote'"
   ]
  },
  {
   "cell_type": "code",
   "execution_count": 19,
   "id": "b52e80ea-3963-4e30-9172-fac1abb67af1",
   "metadata": {},
   "outputs": [
    {
     "data": {
      "text/plain": [
       "'Double Quote'"
      ]
     },
     "execution_count": 19,
     "metadata": {},
     "output_type": "execute_result"
    }
   ],
   "source": [
    "\"Double Quote\""
   ]
  },
  {
   "cell_type": "code",
   "execution_count": 20,
   "id": "9fb23864-efbf-44b5-90df-8e0ec3e05318",
   "metadata": {},
   "outputs": [
    {
     "data": {
      "text/plain": [
       "'\\nthe ice cream vanquished \\nmy longing for sweets,\\nupon this diet I look away,\\nit no longer exists on this day.\\n'"
      ]
     },
     "execution_count": 20,
     "metadata": {},
     "output_type": "execute_result"
    }
   ],
   "source": [
    "\"\"\"\n",
    "the ice cream vanquished \n",
    "my longing for sweets,\n",
    "upon this diet I look away,\n",
    "it no longer exists on this day.\n",
    "\"\"\""
   ]
  },
  {
   "cell_type": "code",
   "execution_count": 21,
   "id": "c3ced033-da24-40e9-8357-3e607a286d03",
   "metadata": {},
   "outputs": [],
   "source": [
    "multiline = \"\"\"\n",
    "the ice cream vanquished \n",
    "my longing for sweets,\n",
    "upon this diet I look away,\n",
    "it no longer exists on this day.\n",
    "\"\"\"\n"
   ]
  },
  {
   "cell_type": "code",
   "execution_count": 22,
   "id": "d82cd995-277e-4f8f-86db-9e0eae7c5d4c",
   "metadata": {},
   "outputs": [
    {
     "name": "stdout",
     "output_type": "stream",
     "text": [
      "\n",
      "the ice cream vanquished \n",
      "my longing for sweets,\n",
      "upon this diet I look away,\n",
      "it no longer exists on this day.\n",
      "\n"
     ]
    }
   ],
   "source": [
    "print(multiline)"
   ]
  },
  {
   "cell_type": "code",
   "execution_count": 24,
   "id": "9df59f56-492b-4413-9e61-dd04c861ae4e",
   "metadata": {},
   "outputs": [
    {
     "ename": "SyntaxError",
     "evalue": "unterminated string literal (detected at line 1) (925708906.py, line 1)",
     "output_type": "error",
     "traceback": [
      "\u001b[0;36m  Cell \u001b[0;32mIn[24], line 1\u001b[0;36m\u001b[0m\n\u001b[0;31m    'I've always wanted to eat a gallon of ice cream.'\u001b[0m\n\u001b[0m                                                     ^\u001b[0m\n\u001b[0;31mSyntaxError\u001b[0m\u001b[0;31m:\u001b[0m unterminated string literal (detected at line 1)\n"
     ]
    }
   ],
   "source": [
    "'I've always wanted to eat a gallon of ice cream.'\n",
    "#error within a ' in senctence"
   ]
  },
  {
   "cell_type": "code",
   "execution_count": 26,
   "id": "30b660f9-1a6b-49d4-9833-affee8fc144b",
   "metadata": {},
   "outputs": [
    {
     "data": {
      "text/plain": [
       "\"I've always wanted to eat a gallon of ice cream.\""
      ]
     },
     "execution_count": 26,
     "metadata": {},
     "output_type": "execute_result"
    }
   ],
   "source": [
    "\"I've always wanted to eat a gallon of ice cream.\"\n",
    "\n",
    "#use doulbe quate ,but can not include \"\"either"
   ]
  },
  {
   "cell_type": "code",
   "execution_count": 27,
   "id": "89e9b9f3-2b4d-4370-9ea4-992137f0c397",
   "metadata": {},
   "outputs": [
    {
     "ename": "SyntaxError",
     "evalue": "invalid syntax (1691440257.py, line 1)",
     "output_type": "error",
     "traceback": [
      "\u001b[0;36m  Cell \u001b[0;32mIn[27], line 1\u001b[0;36m\u001b[0m\n\u001b[0;31m    \"I've always wanted to eat a gallon of \"ice cream.\"\"\u001b[0m\n\u001b[0m                                            ^\u001b[0m\n\u001b[0;31mSyntaxError\u001b[0m\u001b[0;31m:\u001b[0m invalid syntax\n"
     ]
    }
   ],
   "source": [
    "\"I've always wanted to eat a gallon of \"ice cream.\"\"\n",
    "#use tripple quote\n"
   ]
  },
  {
   "cell_type": "code",
   "execution_count": 33,
   "id": "98c5c717-f87e-42ff-b40d-ca8c957ee98c",
   "metadata": {},
   "outputs": [
    {
     "data": {
      "text/plain": [
       "'\\n\\nI\\'ve always wanted to eat a gallon of \"ice cream\".\\n\\n'"
      ]
     },
     "execution_count": 33,
     "metadata": {},
     "output_type": "execute_result"
    }
   ],
   "source": [
    "\"\"\"\n",
    "\n",
    "I've always wanted to eat a gallon of \"ice cream\".\n",
    "\n",
    "\"\"\"\n"
   ]
  },
  {
   "cell_type": "code",
   "execution_count": 34,
   "id": "75c02bab-0fae-465a-95dd-f3066ddcfc9d",
   "metadata": {},
   "outputs": [
    {
     "data": {
      "text/plain": [
       "str"
      ]
     },
     "execution_count": 34,
     "metadata": {},
     "output_type": "execute_result"
    }
   ],
   "source": [
    "type(multiline)"
   ]
  },
  {
   "cell_type": "code",
   "execution_count": 35,
   "id": "6b119c44-806f-4d70-9a7c-123320e28d12",
   "metadata": {},
   "outputs": [],
   "source": [
    "a = 'Hello world!'"
   ]
  },
  {
   "cell_type": "code",
   "execution_count": 36,
   "id": "d80eeb1f-d2c4-4715-9ad0-a9933d0de239",
   "metadata": {},
   "outputs": [
    {
     "name": "stdout",
     "output_type": "stream",
     "text": [
      "Hello\n"
     ]
    }
   ],
   "source": [
    "print(a[:5])"
   ]
  },
  {
   "cell_type": "code",
   "execution_count": 37,
   "id": "5836e4a6-6019-4230-9a77-4420120bffee",
   "metadata": {},
   "outputs": [
    {
     "name": "stdout",
     "output_type": "stream",
     "text": [
      "w\n"
     ]
    }
   ],
   "source": [
    "print(a[6])"
   ]
  },
  {
   "cell_type": "code",
   "execution_count": 38,
   "id": "93b3b958-5ea7-4035-b139-569bf18a3d11",
   "metadata": {},
   "outputs": [
    {
     "name": "stdout",
     "output_type": "stream",
     "text": [
      "l\n"
     ]
    }
   ],
   "source": [
    "print(a[-3])"
   ]
  },
  {
   "cell_type": "code",
   "execution_count": 39,
   "id": "6c973645-20e4-4e65-aa2a-992cb40586ca",
   "metadata": {},
   "outputs": [
    {
     "name": "stdout",
     "output_type": "stream",
     "text": [
      "llo\n"
     ]
    }
   ],
   "source": [
    "print(a[2:5])"
   ]
  },
  {
   "cell_type": "code",
   "execution_count": 40,
   "id": "6fc1e5a4-a05b-4147-a05e-a77ec869e55a",
   "metadata": {},
   "outputs": [
    {
     "data": {
      "text/plain": [
       "'Hello world!Hello world!Hello world!'"
      ]
     },
     "execution_count": 40,
     "metadata": {},
     "output_type": "execute_result"
    }
   ],
   "source": [
    "a*3"
   ]
  },
  {
   "cell_type": "code",
   "execution_count": 41,
   "id": "37c22c9e-28a7-423b-97f7-3b18e8318df1",
   "metadata": {},
   "outputs": [
    {
     "data": {
      "text/plain": [
       "'Hello world!Hello world!'"
      ]
     },
     "execution_count": 41,
     "metadata": {},
     "output_type": "execute_result"
    }
   ],
   "source": [
    "a+a"
   ]
  },
  {
   "cell_type": "code",
   "execution_count": 42,
   "id": "1c6845c3-b7f7-40d1-9547-e663b112cc37",
   "metadata": {},
   "outputs": [],
   "source": [
    "#lists"
   ]
  },
  {
   "cell_type": "code",
   "execution_count": 43,
   "id": "1040c945-bb80-4f6e-9f56-b83f60557077",
   "metadata": {},
   "outputs": [
    {
     "data": {
      "text/plain": [
       "[1, 2, 3]"
      ]
     },
     "execution_count": 43,
     "metadata": {},
     "output_type": "execute_result"
    }
   ],
   "source": [
    "[1,2,3]"
   ]
  },
  {
   "cell_type": "code",
   "execution_count": 45,
   "id": "5852190f-7206-430a-a68d-2eb9f7f8052b",
   "metadata": {},
   "outputs": [
    {
     "data": {
      "text/plain": [
       "['cookie dough', 'strawberry', 'chocolate']"
      ]
     },
     "execution_count": 45,
     "metadata": {},
     "output_type": "execute_result"
    }
   ],
   "source": [
    "['cookie dough','strawberry','chocolate']"
   ]
  },
  {
   "cell_type": "code",
   "execution_count": 46,
   "id": "d28fb09d-6060-4caf-b8d9-575628f84996",
   "metadata": {},
   "outputs": [
    {
     "data": {
      "text/plain": [
       "['vanilla', 3, ['Scoops', 'Spoon'], True]"
      ]
     },
     "execution_count": 46,
     "metadata": {},
     "output_type": "execute_result"
    }
   ],
   "source": [
    "['vanilla',3,['Scoops','Spoon'],True]"
   ]
  },
  {
   "cell_type": "code",
   "execution_count": 48,
   "id": "5d95f54a-c382-4cdf-9cb3-c47805698829",
   "metadata": {},
   "outputs": [
    {
     "data": {
      "text/plain": [
       "['cookie dough', 'strawberry', 'chocolate', 'Salted caramel']"
      ]
     },
     "execution_count": 48,
     "metadata": {},
     "output_type": "execute_result"
    }
   ],
   "source": [
    "ice_cream = ['cookie dough','strawberry','chocolate']\n",
    "ice_cream.append ('Salted caramel')\n",
    "ice_cream"
   ]
  },
  {
   "cell_type": "code",
   "execution_count": 49,
   "id": "34e0622d-a0f5-439a-9619-376d87839741",
   "metadata": {},
   "outputs": [
    {
     "data": {
      "text/plain": [
       "'cookie dough'"
      ]
     },
     "execution_count": 49,
     "metadata": {},
     "output_type": "execute_result"
    }
   ],
   "source": [
    "ice_cream[0]"
   ]
  },
  {
   "cell_type": "code",
   "execution_count": 50,
   "id": "e34188b9-5b7f-494a-9376-1aa2bffc43c1",
   "metadata": {},
   "outputs": [
    {
     "data": {
      "text/plain": [
       "['Butter Pecan', 'strawberry', 'chocolate', 'Salted caramel']"
      ]
     },
     "execution_count": 50,
     "metadata": {},
     "output_type": "execute_result"
    }
   ],
   "source": [
    "ice_cream[0]= 'Butter Pecan'\n",
    "ice_cream"
   ]
  },
  {
   "cell_type": "code",
   "execution_count": 51,
   "id": "a6f7b518-1cb0-4609-8b2f-bd5368b76417",
   "metadata": {},
   "outputs": [],
   "source": [
    "nest_list =['vanilla',3,['Scoops','Spoon'],True]"
   ]
  },
  {
   "cell_type": "code",
   "execution_count": 53,
   "id": "f0f0853a-543e-47ec-85d5-df15c9a50fef",
   "metadata": {},
   "outputs": [
    {
     "data": {
      "text/plain": [
       "['Scoops', 'Spoon']"
      ]
     },
     "execution_count": 53,
     "metadata": {},
     "output_type": "execute_result"
    }
   ],
   "source": [
    "nest_list[2]"
   ]
  },
  {
   "cell_type": "code",
   "execution_count": null,
   "id": "f6f05a35-bef3-442b-a106-eabb15f385c2",
   "metadata": {},
   "outputs": [],
   "source": [
    "#can go on"
   ]
  },
  {
   "cell_type": "code",
   "execution_count": 55,
   "id": "9c8e8392-786c-4316-99a3-425e6034eeea",
   "metadata": {},
   "outputs": [
    {
     "data": {
      "text/plain": [
       "'Spoon'"
      ]
     },
     "execution_count": 55,
     "metadata": {},
     "output_type": "execute_result"
    }
   ],
   "source": [
    "nest_list[2][1]\n",
    "#can go futher on"
   ]
  },
  {
   "cell_type": "code",
   "execution_count": 56,
   "id": "eabae6a9-1c53-445f-8e4d-9d13da1d0140",
   "metadata": {},
   "outputs": [],
   "source": [
    "#tuple\n",
    "\n",
    "tuple_scoops = (1,2,3,2,1)"
   ]
  },
  {
   "cell_type": "code",
   "execution_count": 57,
   "id": "f4da5445-4d8b-418b-a1df-1458a65c3eb9",
   "metadata": {},
   "outputs": [
    {
     "data": {
      "text/plain": [
       "tuple"
      ]
     },
     "execution_count": 57,
     "metadata": {},
     "output_type": "execute_result"
    }
   ],
   "source": [
    "type(tuple_scoops)"
   ]
  },
  {
   "cell_type": "code",
   "execution_count": 58,
   "id": "adcca4e6-c8a0-4568-bfa5-2752377eaf21",
   "metadata": {},
   "outputs": [
    {
     "data": {
      "text/plain": [
       "1"
      ]
     },
     "execution_count": 58,
     "metadata": {},
     "output_type": "execute_result"
    }
   ],
   "source": [
    "tuple_scoops[0]"
   ]
  },
  {
   "cell_type": "code",
   "execution_count": 59,
   "id": "832d82af-f9ab-49d4-8a1e-9651db92043f",
   "metadata": {},
   "outputs": [
    {
     "ename": "AttributeError",
     "evalue": "'tuple' object has no attribute 'append'",
     "output_type": "error",
     "traceback": [
      "\u001b[0;31m---------------------------------------------------------------------------\u001b[0m",
      "\u001b[0;31mAttributeError\u001b[0m                            Traceback (most recent call last)",
      "Cell \u001b[0;32mIn[59], line 1\u001b[0m\n\u001b[0;32m----> 1\u001b[0m tuple_scoops\u001b[38;5;241m.\u001b[39mappend(\u001b[38;5;241m3\u001b[39m)\n",
      "\u001b[0;31mAttributeError\u001b[0m: 'tuple' object has no attribute 'append'"
     ]
    }
   ],
   "source": [
    "tuple_scoops.append(3)\n",
    "#can not add value on a tuple\n",
    "#can not change\n",
    "#tuple is used for the data that never going to be changed\n",
    "#city name,location etc"
   ]
  },
  {
   "cell_type": "code",
   "execution_count": 60,
   "id": "9972a80e-c077-4a85-9110-32c1a9603a4e",
   "metadata": {},
   "outputs": [],
   "source": [
    "#set\n",
    "#unordered\n",
    "#can not be index\n",
    "#can use for loop to go through\n",
    "daily_pints = {1,2,3}"
   ]
  },
  {
   "cell_type": "code",
   "execution_count": 61,
   "id": "7544fe18-6383-4c52-b878-7c6ba802d96c",
   "metadata": {},
   "outputs": [
    {
     "data": {
      "text/plain": [
       "set"
      ]
     },
     "execution_count": 61,
     "metadata": {},
     "output_type": "execute_result"
    }
   ],
   "source": [
    "type(daily_pints)"
   ]
  },
  {
   "cell_type": "code",
   "execution_count": 62,
   "id": "ba3abf64-37d0-4097-8473-b02c6869a2d9",
   "metadata": {},
   "outputs": [
    {
     "name": "stdout",
     "output_type": "stream",
     "text": [
      "{1, 2, 3}\n"
     ]
    }
   ],
   "source": [
    "print(daily_pints)"
   ]
  },
  {
   "cell_type": "code",
   "execution_count": 63,
   "id": "8fb921a2-b381-4319-838d-e20b704e367f",
   "metadata": {},
   "outputs": [
    {
     "name": "stdout",
     "output_type": "stream",
     "text": [
      "{1, 2, 3, 4, 5, 6, 31}\n"
     ]
    }
   ],
   "source": [
    "daily_pints_log ={1,2,31,2,3,4,1,2,5,6,3,2}\n",
    "print(daily_pints_log)\n",
    "#return just unique values\n",
    "#can be used for compare values of two sets"
   ]
  },
  {
   "cell_type": "code",
   "execution_count": 64,
   "id": "25f640a2-d092-4cf5-9f14-84defe95661d",
   "metadata": {},
   "outputs": [],
   "source": [
    "wifes_daily_pints_log ={1,3,5,7,3,24,5,7,3,2,0}"
   ]
  },
  {
   "cell_type": "code",
   "execution_count": 66,
   "id": "7258c4ef-ef3f-47c0-8aa7-d191e3ab23f3",
   "metadata": {},
   "outputs": [
    {
     "name": "stdout",
     "output_type": "stream",
     "text": [
      "{0, 1, 2, 3, 4, 5, 6, 7, 24, 31}\n"
     ]
    }
   ],
   "source": [
    "print(daily_pints_log | wifes_daily_pints_log)\n",
    "#all unique values between this two sets"
   ]
  },
  {
   "cell_type": "code",
   "execution_count": 68,
   "id": "a1174031-ee3b-4690-86d4-36259036ce36",
   "metadata": {},
   "outputs": [
    {
     "name": "stdout",
     "output_type": "stream",
     "text": [
      "{1, 2, 3, 5}\n"
     ]
    }
   ],
   "source": [
    "print(daily_pints_log & wifes_daily_pints_log)\n",
    "#which show up in both sets"
   ]
  },
  {
   "cell_type": "code",
   "execution_count": 69,
   "id": "f26d5443-6c98-405c-99aa-e7fdc1d98e59",
   "metadata": {},
   "outputs": [
    {
     "name": "stdout",
     "output_type": "stream",
     "text": [
      "{4, 6, 31}\n"
     ]
    }
   ],
   "source": [
    "print(daily_pints_log - wifes_daily_pints_log)\n",
    "#show what does not match\n",
    "#not calculation"
   ]
  },
  {
   "cell_type": "code",
   "execution_count": 70,
   "id": "3b30440c-dbe7-4d38-9953-158a1a474fed",
   "metadata": {},
   "outputs": [
    {
     "name": "stdout",
     "output_type": "stream",
     "text": [
      "{0, 24, 7}\n"
     ]
    }
   ],
   "source": [
    "print(wifes_daily_pints_log -daily_pints_log )\n",
    "#dirction matters\n",
    "#exclude the second set from the first set, show the remaining values"
   ]
  },
  {
   "cell_type": "code",
   "execution_count": 71,
   "id": "d35216ab-6472-43c2-a969-a7434e9b60c3",
   "metadata": {},
   "outputs": [
    {
     "name": "stdout",
     "output_type": "stream",
     "text": [
      "{0, 4, 6, 7, 24, 31}\n"
     ]
    }
   ],
   "source": [
    "print(wifes_daily_pints_log ^ daily_pints_log )\n",
    "#which number only shows in one set"
   ]
  },
  {
   "cell_type": "code",
   "execution_count": 73,
   "id": "4c3262b4-2111-4fc1-a023-bbed30493673",
   "metadata": {},
   "outputs": [],
   "source": [
    "#dictionaries\n",
    "\n",
    "#key/value pair\n",
    "dict_cream = {'name':'Alex Freberg', 'weekly intake':5, 'favorite ice creams':['MCC','Chocolate']}"
   ]
  },
  {
   "cell_type": "code",
   "execution_count": 74,
   "id": "dbf285d2-8244-46af-b612-a0a6e68209de",
   "metadata": {},
   "outputs": [
    {
     "data": {
      "text/plain": [
       "dict"
      ]
     },
     "execution_count": 74,
     "metadata": {},
     "output_type": "execute_result"
    }
   ],
   "source": [
    "type(dict_cream)"
   ]
  },
  {
   "cell_type": "code",
   "execution_count": 75,
   "id": "1baf2b41-09bf-4f41-882f-5fcf0585cdac",
   "metadata": {},
   "outputs": [
    {
     "name": "stdout",
     "output_type": "stream",
     "text": [
      "{'name': 'Alex Freberg', 'weekly intake': 5, 'favorite ice creams': ['MCC', 'Chocolate']}\n"
     ]
    }
   ],
   "source": [
    "print(dict_cream)"
   ]
  },
  {
   "cell_type": "code",
   "execution_count": 76,
   "id": "d6e5f742-d232-422f-8d81-9f155b9d5256",
   "metadata": {},
   "outputs": [
    {
     "data": {
      "text/plain": [
       "dict_values(['Alex Freberg', 5, ['MCC', 'Chocolate']])"
      ]
     },
     "execution_count": 76,
     "metadata": {},
     "output_type": "execute_result"
    }
   ],
   "source": [
    "dict_cream.values()"
   ]
  },
  {
   "cell_type": "code",
   "execution_count": 78,
   "id": "b6150202-6494-4d04-9cb1-585aabb854a2",
   "metadata": {},
   "outputs": [
    {
     "data": {
      "text/plain": [
       "dict_keys(['name', 'weekly intake', 'favorite ice creams'])"
      ]
     },
     "execution_count": 78,
     "metadata": {},
     "output_type": "execute_result"
    }
   ],
   "source": [
    "dict_cream.keys()"
   ]
  },
  {
   "cell_type": "code",
   "execution_count": 80,
   "id": "0674f71b-f62b-42b6-b643-40f8d8a2212c",
   "metadata": {},
   "outputs": [
    {
     "data": {
      "text/plain": [
       "dict_items([('name', 'Alex Freberg'), ('weekly intake', 5), ('favorite ice creams', ['MCC', 'Chocolate'])])"
      ]
     },
     "execution_count": 80,
     "metadata": {},
     "output_type": "execute_result"
    }
   ],
   "source": [
    "dict_cream.items()"
   ]
  },
  {
   "cell_type": "code",
   "execution_count": 82,
   "id": "d679e912-abe3-4bf3-b75f-09125485155d",
   "metadata": {},
   "outputs": [
    {
     "data": {
      "text/plain": [
       "'Alex Freberg'"
      ]
     },
     "execution_count": 82,
     "metadata": {},
     "output_type": "execute_result"
    }
   ],
   "source": [
    "#dict_cream.values()[1]\n",
    "#dict_cream[0]\n",
    "dict_cream['name']"
   ]
  },
  {
   "cell_type": "code",
   "execution_count": 83,
   "id": "354ad6f5-ba54-4fbf-8896-4863892140e9",
   "metadata": {},
   "outputs": [
    {
     "name": "stdout",
     "output_type": "stream",
     "text": [
      "{'name': 'Christine Freberg', 'weekly intake': 5, 'favorite ice creams': ['MCC', 'Chocolate']}\n"
     ]
    }
   ],
   "source": [
    "dict_cream['name'] = 'Christine Freberg'\n",
    "print(dict_cream)"
   ]
  },
  {
   "cell_type": "code",
   "execution_count": 84,
   "id": "181bb35b-8536-4040-907b-0fa6c090a229",
   "metadata": {},
   "outputs": [
    {
     "name": "stdout",
     "output_type": "stream",
     "text": [
      "{'name': 'Christine Freberg', 'weekly intake': 5, 'favorite ice creams': ['MCC', 'Chocolate'], 'weight': 300}\n"
     ]
    }
   ],
   "source": [
    "dict_cream.update({'name': 'Christine Freberg', 'weekly intake': 5, 'weight': 300})\n",
    "print(dict_cream)\n",
    "#does not delect the existing one but add a new one"
   ]
  },
  {
   "cell_type": "code",
   "execution_count": 89,
   "id": "f515e1b8-70b1-4201-a69c-dfceb2c0dcba",
   "metadata": {},
   "outputs": [
    {
     "name": "stdout",
     "output_type": "stream",
     "text": [
      "{'name': 'Christine Freberg', 'weekly intake': 10, 'favorite ice creams': ['MCC', 'Chocolate'], 'weight': 300}\n"
     ]
    }
   ],
   "source": [
    "dict_cream.update({'name': 'Christine Freberg', 'weekly intake': 10, 'weight': 300})\n",
    "print(dict_cream)\n",
    "#do not change the name but only the value, will replace the existing one"
   ]
  },
  {
   "cell_type": "code",
   "execution_count": 90,
   "id": "a3c35b94-5bfb-47c4-9445-3f954759dc69",
   "metadata": {},
   "outputs": [
    {
     "name": "stdout",
     "output_type": "stream",
     "text": [
      "{'name': 'Christine Freberg', 'weekly intake': 10, 'favorite ice creams': ['MCC', 'Chocolate']}\n"
     ]
    }
   ],
   "source": [
    "del dict_cream['weight']\n",
    "print(dict_cream)"
   ]
  },
  {
   "cell_type": "code",
   "execution_count": null,
   "id": "5ecafcfa-cb2c-49e3-a8b6-4b0b2ef2aa37",
   "metadata": {},
   "outputs": [],
   "source": []
  }
 ],
 "metadata": {
  "kernelspec": {
   "display_name": "Python [conda env:base] *",
   "language": "python",
   "name": "conda-base-py"
  },
  "language_info": {
   "codemirror_mode": {
    "name": "ipython",
    "version": 3
   },
   "file_extension": ".py",
   "mimetype": "text/x-python",
   "name": "python",
   "nbconvert_exporter": "python",
   "pygments_lexer": "ipython3",
   "version": "3.12.7"
  }
 },
 "nbformat": 4,
 "nbformat_minor": 5
}
