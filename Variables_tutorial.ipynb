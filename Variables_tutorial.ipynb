{
 "cells": [
  {
   "cell_type": "code",
   "execution_count": 3,
   "id": "2844fbc6-bedd-43c4-ace8-59a67e69a8e8",
   "metadata": {},
   "outputs": [
    {
     "name": "stdout",
     "output_type": "stream",
     "text": [
      "22\n"
     ]
    }
   ],
   "source": [
    "x = 22\n",
    "print (x)"
   ]
  },
  {
   "cell_type": "code",
   "execution_count": 7,
   "id": "241a1942-8590-40cd-97e0-3583efd93835",
   "metadata": {},
   "outputs": [
    {
     "data": {
      "text/plain": [
       "int"
      ]
     },
     "execution_count": 7,
     "metadata": {},
     "output_type": "execute_result"
    }
   ],
   "source": [
    "type (x)"
   ]
  },
  {
   "cell_type": "code",
   "execution_count": 9,
   "id": "3ede2fe1-a96a-4492-8d59-23bde0fa35bf",
   "metadata": {},
   "outputs": [
    {
     "name": "stdout",
     "output_type": "stream",
     "text": [
      "mint chocolate chip\n"
     ]
    }
   ],
   "source": [
    "y = \"mint chocolate chip\"\n",
    "print(y)"
   ]
  },
  {
   "cell_type": "code",
   "execution_count": 10,
   "id": "00bbb70a-ff35-4ccc-b88d-9a8388ce6cf9",
   "metadata": {},
   "outputs": [
    {
     "data": {
      "text/plain": [
       "str"
      ]
     },
     "execution_count": 10,
     "metadata": {},
     "output_type": "execute_result"
    }
   ],
   "source": [
    "type (y)"
   ]
  },
  {
   "cell_type": "code",
   "execution_count": 12,
   "id": "29e59346-eba5-47ff-983b-0201ed75b6ff",
   "metadata": {},
   "outputs": [
    {
     "name": "stdout",
     "output_type": "stream",
     "text": [
      "mint chocolate chip\n"
     ]
    }
   ],
   "source": [
    "print(y)"
   ]
  },
  {
   "cell_type": "code",
   "execution_count": 14,
   "id": "9f71bcda-d67d-4e97-ad83-1fd6ffd3561d",
   "metadata": {},
   "outputs": [
    {
     "name": "stdout",
     "output_type": "stream",
     "text": [
      "chocolate\n"
     ]
    }
   ],
   "source": [
    "y =\"chocolate\"\n",
    "print(y)"
   ]
  },
  {
   "cell_type": "code",
   "execution_count": 16,
   "id": "5312b220-b026-4f27-8744-1a887ddad123",
   "metadata": {},
   "outputs": [
    {
     "name": "stdout",
     "output_type": "stream",
     "text": [
      "mint chocolate chip\n"
     ]
    }
   ],
   "source": [
    "y =\"Chololate\"\n",
    "\n",
    "y =\"mint chocolate chip\"\n",
    "\n",
    "print(y)"
   ]
  },
  {
   "cell_type": "code",
   "execution_count": 17,
   "id": "1d843324-2e27-4a94-b9b4-7cd561ed2a13",
   "metadata": {},
   "outputs": [
    {
     "name": "stdout",
     "output_type": "stream",
     "text": [
      "Chololate\n"
     ]
    }
   ],
   "source": [
    "y =\"Chololate\"\n",
    "\n",
    "Y =\"mint chocolate chip\"\n",
    "\n",
    "print(y)"
   ]
  },
  {
   "cell_type": "code",
   "execution_count": 19,
   "id": "20a5639c-41ae-46a2-a4a8-f9fe96cb965f",
   "metadata": {},
   "outputs": [
    {
     "name": "stdout",
     "output_type": "stream",
     "text": [
      "chocolate\n",
      "vanilla\n",
      "Rocky road\n"
     ]
    }
   ],
   "source": [
    "x,y,z = 'chocolate','vanilla','Rocky road'\n",
    "print(x)\n",
    "print(y)\n",
    "print(z)"
   ]
  },
  {
   "cell_type": "code",
   "execution_count": 21,
   "id": "7ce0d552-3242-4215-b48d-5fd1173b7c41",
   "metadata": {},
   "outputs": [
    {
     "name": "stdout",
     "output_type": "stream",
     "text": [
      "Root beer float\n",
      "Root beer float\n",
      "Root beer float\n"
     ]
    }
   ],
   "source": [
    "x=y=z ='Root beer float'\n",
    "print(x)\n",
    "print(y)\n",
    "print(z)"
   ]
  },
  {
   "cell_type": "code",
   "execution_count": 23,
   "id": "dbdd8002-ec27-4c35-a9ad-5722fac02a5a",
   "metadata": {},
   "outputs": [
    {
     "name": "stdout",
     "output_type": "stream",
     "text": [
      "chocolate\n",
      "vanilla\n",
      "Rocky road\n"
     ]
    }
   ],
   "source": [
    "ice_cream = ['chocolate','vanilla','Rocky road']\n",
    "x,y,z = ice_cream\n",
    "print(x)\n",
    "print(y)\n",
    "print(z)"
   ]
  },
  {
   "cell_type": "markdown",
   "id": "d0e772d0-9391-4cc3-9f45-118c6941e797",
   "metadata": {},
   "source": [
    "# camel case\n",
    "# test variable case"
   ]
  },
  {
   "cell_type": "code",
   "execution_count": 29,
   "id": "1b662397-d117-490a-9576-cf93bb46090b",
   "metadata": {},
   "outputs": [],
   "source": [
    "#camel case\n",
    "\n",
    "testVariableCase = 'Vanilla Swirl'"
   ]
  },
  {
   "cell_type": "code",
   "execution_count": 30,
   "id": "40e718cf-f3fc-44a5-96e8-de544321d29e",
   "metadata": {},
   "outputs": [],
   "source": [
    "#pascal case\n",
    "\n",
    "TestVariableCase = 'Vanilla Swirl'"
   ]
  },
  {
   "cell_type": "code",
   "execution_count": 32,
   "id": "89a884c3-46eb-4b6b-8ccd-ee84ecfdce18",
   "metadata": {},
   "outputs": [],
   "source": [
    "#snake case\n",
    "#best\n",
    "\n",
    "test_variable_case = 'Vanilla Swirl'"
   ]
  },
  {
   "cell_type": "code",
   "execution_count": 34,
   "id": "20faead3-747c-4b0f-a72c-ef38c4c2442c",
   "metadata": {},
   "outputs": [],
   "source": [
    "testvar ='Vanilla Swirl'\n",
    "test_var ='Vanilla Swirl'\n",
    "_test_var='Vanilla Swirl'\n",
    "TestVar='Vanilla Swirl'\n",
    "testVar='Vanilla Swirl'\n",
    "testVar2='Vanilla Swirl'"
   ]
  },
  {
   "cell_type": "code",
   "execution_count": 35,
   "id": "0a370830-4039-426a-ada1-d41f1f1abe4c",
   "metadata": {},
   "outputs": [
    {
     "ename": "SyntaxError",
     "evalue": "invalid decimal literal (2370466909.py, line 2)",
     "output_type": "error",
     "traceback": [
      "\u001b[0;36m  Cell \u001b[0;32mIn[35], line 2\u001b[0;36m\u001b[0m\n\u001b[0;31m    2testVar ='Vanilla Swirl'\u001b[0m\n\u001b[0m    ^\u001b[0m\n\u001b[0;31mSyntaxError\u001b[0m\u001b[0;31m:\u001b[0m invalid decimal literal\n"
     ]
    }
   ],
   "source": [
    "# can not use 2 infront of varible name\n",
    "# 2testVar ='Vanilla Swirl'\n",
    "# test-var2 ='Vanilla Swirl'\n",
    "# test var ='Vanilla Swirl'\n",
    "# test, var ='Vanilla Swirl'\n"
   ]
  },
  {
   "cell_type": "code",
   "execution_count": 37,
   "id": "2933481b-28bc-497f-8e88-654688a69d37",
   "metadata": {},
   "outputs": [
    {
     "name": "stdout",
     "output_type": "stream",
     "text": [
      "Ice cream is my favorit.\n"
     ]
    }
   ],
   "source": [
    "x = 'Ice cream is my favorit' +'.'\n",
    "print(x)"
   ]
  },
  {
   "cell_type": "code",
   "execution_count": 39,
   "id": "fdff0bb1-bb5c-4fad-b321-1a154a13a8aa",
   "metadata": {},
   "outputs": [],
   "source": [
    "#not allowed to add a str and a number together\n",
    "#x = 'Ice cream is my favorit'+2"
   ]
  },
  {
   "cell_type": "code",
   "execution_count": 40,
   "id": "2bb98da0-f6c8-4e54-871c-d1b2836bccf2",
   "metadata": {},
   "outputs": [
    {
     "name": "stdout",
     "output_type": "stream",
     "text": [
      "5\n"
     ]
    }
   ],
   "source": [
    "y = 3+2\n",
    "print(y)"
   ]
  },
  {
   "cell_type": "code",
   "execution_count": 41,
   "id": "96349bc0-0312-4a8d-ad28-05882259d8ed",
   "metadata": {},
   "outputs": [
    {
     "name": "stdout",
     "output_type": "stream",
     "text": [
      "ice creamismy favorite.\n"
     ]
    }
   ],
   "source": [
    "x = 'ice cream'\n",
    "y = 'is'\n",
    "z = 'my favorite.'\n",
    "print(x+y+z)"
   ]
  },
  {
   "cell_type": "code",
   "execution_count": 42,
   "id": "c979daa0-d3b1-4450-8794-23e26a5ed14c",
   "metadata": {},
   "outputs": [
    {
     "name": "stdout",
     "output_type": "stream",
     "text": [
      "ice cream is my favorite.\n"
     ]
    }
   ],
   "source": [
    "x = 'ice cream'\n",
    "y = ' is '\n",
    "z = 'my favorite.'\n",
    "print(x+y+z)"
   ]
  },
  {
   "cell_type": "code",
   "execution_count": 43,
   "id": "89fcfbdd-2ada-4c7e-b515-ccf57581db3e",
   "metadata": {},
   "outputs": [
    {
     "name": "stdout",
     "output_type": "stream",
     "text": [
      "6\n"
     ]
    }
   ],
   "source": [
    "x =1\n",
    "y =2\n",
    "z =3\n",
    "print(x+y+z)\n",
    "#not 123 but 6"
   ]
  },
  {
   "cell_type": "code",
   "execution_count": 44,
   "id": "2405c3d6-c8b2-441e-b7d9-ed3dc9260e09",
   "metadata": {},
   "outputs": [
    {
     "name": "stdout",
     "output_type": "stream",
     "text": [
      "ice cream 2\n"
     ]
    }
   ],
   "source": [
    "x = 'ice cream'\n",
    "y = 2\n",
    "print(x,y)"
   ]
  }
 ],
 "metadata": {
  "kernelspec": {
   "display_name": "Python [conda env:base] *",
   "language": "python",
   "name": "conda-base-py"
  },
  "language_info": {
   "codemirror_mode": {
    "name": "ipython",
    "version": 3
   },
   "file_extension": ".py",
   "mimetype": "text/x-python",
   "name": "python",
   "nbconvert_exporter": "python",
   "pygments_lexer": "ipython3",
   "version": "3.12.7"
  }
 },
 "nbformat": 4,
 "nbformat_minor": 5
}
