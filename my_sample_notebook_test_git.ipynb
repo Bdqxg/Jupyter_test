{
 "cells": [
  {
   "cell_type": "code",
   "execution_count": 2,
   "id": "36f3d2c1-8bb9-4639-b9a2-35c6fe150faf",
   "metadata": {},
   "outputs": [],
   "source": [
    "name = \"Jinyi\""
   ]
  },
  {
   "cell_type": "code",
   "execution_count": 3,
   "id": "ecb8b7f3-704c-4587-a989-8dd04950d5b5",
   "metadata": {},
   "outputs": [
    {
     "name": "stdout",
     "output_type": "stream",
     "text": [
      "Hello,my name is Jinyi this is my jupyter notebook\n"
     ]
    }
   ],
   "source": [
    "print(f\"Hello,my name is {name} this is my jupyter notebook\")"
   ]
  },
  {
   "cell_type": "code",
   "execution_count": null,
   "id": "debfa821-46d2-4bfb-bc7e-2bce4d2d478d",
   "metadata": {},
   "outputs": [],
   "source": []
  }
 ],
 "metadata": {
  "kernelspec": {
   "display_name": "Python [conda env:base] *",
   "language": "python",
   "name": "conda-base-py"
  },
  "language_info": {
   "codemirror_mode": {
    "name": "ipython",
    "version": 3
   },
   "file_extension": ".py",
   "mimetype": "text/x-python",
   "name": "python",
   "nbconvert_exporter": "python",
   "pygments_lexer": "ipython3",
   "version": "3.12.7"
  }
 },
 "nbformat": 4,
 "nbformat_minor": 5
}
