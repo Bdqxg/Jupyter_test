{
 "cells": [
  {
   "cell_type": "code",
   "execution_count": 1,
   "id": "6aff1b17-e184-4086-8856-31f113cd7dc0",
   "metadata": {},
   "outputs": [
    {
     "ename": "SyntaxError",
     "evalue": "cannot assign to literal here. Maybe you meant '==' instead of '='? (260838114.py, line 1)",
     "output_type": "error",
     "traceback": [
      "\u001b[0;36m  Cell \u001b[0;32mIn[1], line 1\u001b[0;36m\u001b[0m\n\u001b[0;31m    10 = 10\u001b[0m\n\u001b[0m    ^\u001b[0m\n\u001b[0;31mSyntaxError\u001b[0m\u001b[0;31m:\u001b[0m cannot assign to literal here. Maybe you meant '==' instead of '='?\n"
     ]
    }
   ],
   "source": [
    "10 = 10"
   ]
  },
  {
   "cell_type": "code",
   "execution_count": 2,
   "id": "381d7b0f-9214-4ede-89d2-055fd9fa19ee",
   "metadata": {},
   "outputs": [
    {
     "data": {
      "text/plain": [
       "True"
      ]
     },
     "execution_count": 2,
     "metadata": {},
     "output_type": "execute_result"
    }
   ],
   "source": [
    "10 == 10"
   ]
  },
  {
   "cell_type": "code",
   "execution_count": 3,
   "id": "cce3a21d-6b49-4c30-8b47-3d8bf8c6d3ff",
   "metadata": {},
   "outputs": [
    {
     "data": {
      "text/plain": [
       "False"
      ]
     },
     "execution_count": 3,
     "metadata": {},
     "output_type": "execute_result"
    }
   ],
   "source": [
    "10 == 50"
   ]
  },
  {
   "cell_type": "code",
   "execution_count": 4,
   "id": "df2eeb19-217f-4dbc-8f20-8eca417720b1",
   "metadata": {},
   "outputs": [
    {
     "data": {
      "text/plain": [
       "True"
      ]
     },
     "execution_count": 4,
     "metadata": {},
     "output_type": "execute_result"
    }
   ],
   "source": [
    "10 != 50"
   ]
  },
  {
   "cell_type": "code",
   "execution_count": 5,
   "id": "217850d2-e7a8-426e-9774-8074a366ee2b",
   "metadata": {},
   "outputs": [
    {
     "data": {
      "text/plain": [
       "True"
      ]
     },
     "execution_count": 5,
     "metadata": {},
     "output_type": "execute_result"
    }
   ],
   "source": [
    "'Vanilla' == 'Vanilla'"
   ]
  },
  {
   "cell_type": "code",
   "execution_count": 6,
   "id": "cfbd5a1b-ba2e-4143-a317-af94f8fcb166",
   "metadata": {},
   "outputs": [
    {
     "data": {
      "text/plain": [
       "False"
      ]
     },
     "execution_count": 6,
     "metadata": {},
     "output_type": "execute_result"
    }
   ],
   "source": [
    "x = 'Vanilla'\n",
    "y = 'Chocolate'\n",
    "\n",
    "x==y"
   ]
  },
  {
   "cell_type": "code",
   "execution_count": 7,
   "id": "61576faf-3daa-4bf4-8319-d50b3ea45972",
   "metadata": {},
   "outputs": [
    {
     "data": {
      "text/plain": [
       "True"
      ]
     },
     "execution_count": 7,
     "metadata": {},
     "output_type": "execute_result"
    }
   ],
   "source": [
    "x!=y"
   ]
  },
  {
   "cell_type": "code",
   "execution_count": 8,
   "id": "ab50c6ef-63e3-4a85-bcca-416d85556774",
   "metadata": {},
   "outputs": [
    {
     "data": {
      "text/plain": [
       "True"
      ]
     },
     "execution_count": 8,
     "metadata": {},
     "output_type": "execute_result"
    }
   ],
   "source": [
    "10 < 50"
   ]
  },
  {
   "cell_type": "code",
   "execution_count": 9,
   "id": "8a343fd7-dbe1-40dc-b7a0-ad57e2aac6e7",
   "metadata": {},
   "outputs": [
    {
     "data": {
      "text/plain": [
       "False"
      ]
     },
     "execution_count": 9,
     "metadata": {},
     "output_type": "execute_result"
    }
   ],
   "source": [
    "10 < 10"
   ]
  },
  {
   "cell_type": "code",
   "execution_count": 10,
   "id": "ca5a1f33-c57e-4830-83e8-fda96f63a34d",
   "metadata": {},
   "outputs": [
    {
     "data": {
      "text/plain": [
       "True"
      ]
     },
     "execution_count": 10,
     "metadata": {},
     "output_type": "execute_result"
    }
   ],
   "source": [
    "10 <= 10"
   ]
  },
  {
   "cell_type": "code",
   "execution_count": 11,
   "id": "3d9a0713-f85e-4d3c-a299-4bf934731d21",
   "metadata": {},
   "outputs": [
    {
     "data": {
      "text/plain": [
       "True"
      ]
     },
     "execution_count": 11,
     "metadata": {},
     "output_type": "execute_result"
    }
   ],
   "source": [
    "10 >= 10"
   ]
  },
  {
   "cell_type": "code",
   "execution_count": 12,
   "id": "7d45288a-7669-4d28-b758-82659955aaa8",
   "metadata": {},
   "outputs": [
    {
     "data": {
      "text/plain": [
       "True"
      ]
     },
     "execution_count": 12,
     "metadata": {},
     "output_type": "execute_result"
    }
   ],
   "source": [
    "50 >=10"
   ]
  },
  {
   "cell_type": "code",
   "execution_count": 13,
   "id": "5bbf173a-55d2-4de3-86e3-8966eab017a0",
   "metadata": {},
   "outputs": [
    {
     "data": {
      "text/plain": [
       "False"
      ]
     },
     "execution_count": 13,
     "metadata": {},
     "output_type": "execute_result"
    }
   ],
   "source": [
    "\n",
    "#logical operators\n",
    "#and or not\n",
    "10 > 50"
   ]
  },
  {
   "cell_type": "code",
   "execution_count": 14,
   "id": "35c0679c-b7c2-45bd-8458-6f3f6a2a2ec5",
   "metadata": {},
   "outputs": [
    {
     "data": {
      "text/plain": [
       "False"
      ]
     },
     "execution_count": 14,
     "metadata": {},
     "output_type": "execute_result"
    }
   ],
   "source": [
    "(10 > 50) and (50 > 10)\n",
    "# F and T"
   ]
  },
  {
   "cell_type": "code",
   "execution_count": 15,
   "id": "ffadacdc-c1b2-47e5-b3ef-e6b7d975ac2e",
   "metadata": {},
   "outputs": [
    {
     "data": {
      "text/plain": [
       "True"
      ]
     },
     "execution_count": 15,
     "metadata": {},
     "output_type": "execute_result"
    }
   ],
   "source": [
    "(70 > 50) and (50 > 10)\n",
    "#T and T"
   ]
  },
  {
   "cell_type": "code",
   "execution_count": 16,
   "id": "821e5eb3-fa66-41c3-a419-144ed0c67ceb",
   "metadata": {},
   "outputs": [
    {
     "data": {
      "text/plain": [
       "True"
      ]
     },
     "execution_count": 16,
     "metadata": {},
     "output_type": "execute_result"
    }
   ],
   "source": [
    "(10 > 50) or (50 > 10)\n",
    "# F or T"
   ]
  },
  {
   "cell_type": "code",
   "execution_count": 17,
   "id": "ea859f5c-dd8f-421a-844a-997fd0ed06f4",
   "metadata": {},
   "outputs": [
    {
     "data": {
      "text/plain": [
       "True"
      ]
     },
     "execution_count": 17,
     "metadata": {},
     "output_type": "execute_result"
    }
   ],
   "source": [
    "('Vanilla' > 'Chocolate') and (50 > 10)\n",
    "# order V is higher than order C , C is in order 3,so the first statement is T"
   ]
  },
  {
   "cell_type": "code",
   "execution_count": 18,
   "id": "c6a52272-5498-47cf-b95c-01ca61f8ecf1",
   "metadata": {},
   "outputs": [
    {
     "data": {
      "text/plain": [
       "False"
      ]
     },
     "execution_count": 18,
     "metadata": {},
     "output_type": "execute_result"
    }
   ],
   "source": [
    "not(50 > 10)"
   ]
  },
  {
   "cell_type": "code",
   "execution_count": 19,
   "id": "ab9270bd-7b2a-492f-96e8-8406e7f52483",
   "metadata": {},
   "outputs": [],
   "source": [
    "#membership operators"
   ]
  },
  {
   "cell_type": "code",
   "execution_count": 20,
   "id": "d462b8bc-6139-49d4-ba0d-31e0120af398",
   "metadata": {},
   "outputs": [
    {
     "data": {
      "text/plain": [
       "True"
      ]
     },
     "execution_count": 20,
     "metadata": {},
     "output_type": "execute_result"
    }
   ],
   "source": [
    "ice_cream = 'I love chocolate ice cream'\n",
    "'love' in ice_cream"
   ]
  },
  {
   "cell_type": "code",
   "execution_count": 22,
   "id": "587398a0-f6fe-4a5c-9fda-52f7d6ce3d8d",
   "metadata": {},
   "outputs": [
    {
     "data": {
      "text/plain": [
       "False"
      ]
     },
     "execution_count": 22,
     "metadata": {},
     "output_type": "execute_result"
    }
   ],
   "source": [
    "'love  ' in ice_cream"
   ]
  },
  {
   "cell_type": "code",
   "execution_count": 23,
   "id": "a9b8b523-58dd-4dd8-9908-cce8c1106500",
   "metadata": {},
   "outputs": [
    {
     "data": {
      "text/plain": [
       "True"
      ]
     },
     "execution_count": 23,
     "metadata": {},
     "output_type": "execute_result"
    }
   ],
   "source": [
    "'love' in 'I love chocolate ice cream'"
   ]
  },
  {
   "cell_type": "code",
   "execution_count": 24,
   "id": "ad928ebd-6e47-42d3-a334-a2e64d23b0e7",
   "metadata": {},
   "outputs": [
    {
     "data": {
      "text/plain": [
       "True"
      ]
     },
     "execution_count": 24,
     "metadata": {},
     "output_type": "execute_result"
    }
   ],
   "source": [
    "scoops = [1,2,3,4,5]\n",
    "2 in scoops"
   ]
  },
  {
   "cell_type": "code",
   "execution_count": 25,
   "id": "71b510c7-05bf-46b9-91a7-148d3ee0158a",
   "metadata": {},
   "outputs": [
    {
     "data": {
      "text/plain": [
       "True"
      ]
     },
     "execution_count": 25,
     "metadata": {},
     "output_type": "execute_result"
    }
   ],
   "source": [
    "6 not in scoops"
   ]
  },
  {
   "cell_type": "code",
   "execution_count": 26,
   "id": "1f7d26af-481d-4ec2-8877-6dd0a23e5daf",
   "metadata": {},
   "outputs": [
    {
     "data": {
      "text/plain": [
       "True"
      ]
     },
     "execution_count": 26,
     "metadata": {},
     "output_type": "execute_result"
    }
   ],
   "source": [
    "scoops = [1,2,3,4,5]\n",
    "wanted_scoops =8\n",
    "wanted_scoops not in scoops"
   ]
  },
  {
   "cell_type": "code",
   "execution_count": null,
   "id": "07c21aa1-8077-4867-949b-b62a9ae705f9",
   "metadata": {},
   "outputs": [],
   "source": []
  }
 ],
 "metadata": {
  "kernelspec": {
   "display_name": "Python [conda env:base] *",
   "language": "python",
   "name": "conda-base-py"
  },
  "language_info": {
   "codemirror_mode": {
    "name": "ipython",
    "version": 3
   },
   "file_extension": ".py",
   "mimetype": "text/x-python",
   "name": "python",
   "nbconvert_exporter": "python",
   "pygments_lexer": "ipython3",
   "version": "3.12.7"
  }
 },
 "nbformat": 4,
 "nbformat_minor": 5
}
