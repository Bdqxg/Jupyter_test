{
 "cells": [
  {
   "cell_type": "code",
   "execution_count": 1,
   "id": "62038f9a-e9ba-494b-902c-7025454dc22c",
   "metadata": {},
   "outputs": [
    {
     "name": "stdout",
     "output_type": "stream",
     "text": [
      "it worked\n"
     ]
    }
   ],
   "source": [
    "if 25>10:\n",
    "    print('it worked')"
   ]
  },
  {
   "cell_type": "code",
   "execution_count": 3,
   "id": "ae607d99-7d9d-46bf-97b1-79bc871cfdc0",
   "metadata": {},
   "outputs": [],
   "source": [
    "if 25<10:\n",
    "    print('it worked')"
   ]
  },
  {
   "cell_type": "code",
   "execution_count": 4,
   "id": "c550ceeb-cc52-473e-b5d1-14939fc0d4dc",
   "metadata": {},
   "outputs": [
    {
     "name": "stdout",
     "output_type": "stream",
     "text": [
      "it did not work...\n"
     ]
    }
   ],
   "source": [
    "if 25<10:\n",
    "    print('it worked')\n",
    "else:\n",
    "    print('it did not work...')"
   ]
  },
  {
   "cell_type": "code",
   "execution_count": 5,
   "id": "793d41f4-6908-467a-8302-5b6bbbf34cb2",
   "metadata": {},
   "outputs": [
    {
     "name": "stdout",
     "output_type": "stream",
     "text": [
      "it worked\n"
     ]
    }
   ],
   "source": [
    "if 25>10:\n",
    "    print('it worked')\n",
    "else:\n",
    "    print('it did not work...')"
   ]
  },
  {
   "cell_type": "code",
   "execution_count": 6,
   "id": "27cd3025-1ba0-4792-a52a-02e04176d4d8",
   "metadata": {},
   "outputs": [
    {
     "name": "stdout",
     "output_type": "stream",
     "text": [
      "elif worked\n"
     ]
    }
   ],
   "source": [
    "if 25<10:\n",
    "    print('it worked')\n",
    "elif 25 <30:\n",
    "    print('elif worked')\n",
    "else:\n",
    "    print('it did not work...')"
   ]
  },
  {
   "cell_type": "code",
   "execution_count": 7,
   "id": "d68d0750-9b89-490a-8b29-2171e1f3123e",
   "metadata": {},
   "outputs": [
    {
     "name": "stdout",
     "output_type": "stream",
     "text": [
      "elif3 worked\n"
     ]
    }
   ],
   "source": [
    "if 25<10:\n",
    "    print('it worked')\n",
    "elif 25 <20:\n",
    "    print('elif worked')\n",
    "elif 25 <21:\n",
    "    print('elif2 worked')\n",
    "\n",
    "elif 25 <40:\n",
    "    print('elif3 worked')\n",
    "\n",
    "elif 25 <50:\n",
    "    print('elif4 worked')\n",
    "\n",
    "elif 25 <30:\n",
    "    print('elif5 worked')\n",
    "else:\n",
    "    print('it did not work...')"
   ]
  },
  {
   "cell_type": "code",
   "execution_count": 8,
   "id": "89398f4e-bccd-4887-9967-171e2e572bfb",
   "metadata": {},
   "outputs": [
    {
     "name": "stdout",
     "output_type": "stream",
     "text": [
      "it worked\n"
     ]
    }
   ],
   "source": [
    "if (25<10) or (1<3):\n",
    "    print('it worked')\n",
    "elif 25 <20:\n",
    "    print('elif worked')\n",
    "elif 25 <21:\n",
    "    print('elif2 worked')\n",
    "\n",
    "elif 25 <40:\n",
    "    print('elif3 worked')\n",
    "\n",
    "elif 25 <50:\n",
    "    print('elif4 worked')\n",
    "\n",
    "elif 25 <30:\n",
    "    print('elif5 worked')\n",
    "else:\n",
    "    print('it did not work...')"
   ]
  },
  {
   "cell_type": "code",
   "execution_count": 9,
   "id": "edfb61b0-e7de-443d-9d78-6ce9cfa42dda",
   "metadata": {},
   "outputs": [
    {
     "name": "stdout",
     "output_type": "stream",
     "text": [
      "it did not work\n"
     ]
    }
   ],
   "source": [
    "print('it worked') if 10 > 30 else print('it did not work')"
   ]
  },
  {
   "cell_type": "code",
   "execution_count": 10,
   "id": "66e03d1d-70d9-4116-9f06-6e7cefb99a32",
   "metadata": {},
   "outputs": [
    {
     "name": "stdout",
     "output_type": "stream",
     "text": [
      "it worked\n",
      "this nested if statement worked\n"
     ]
    }
   ],
   "source": [
    "if (25<10) or (1<3):\n",
    "    print('it worked')\n",
    "    if 10 >5 :\n",
    "        print('this nested if statement worked')\n",
    "elif 25 <20:\n",
    "    print('elif worked')\n",
    "elif 25 <21:\n",
    "    print('elif2 worked')\n",
    "\n",
    "elif 25 <40:\n",
    "    print('elif3 worked')\n",
    "\n",
    "elif 25 <50:\n",
    "    print('elif4 worked')\n",
    "\n",
    "elif 25 <30:\n",
    "    print('elif5 worked')\n",
    "else:\n",
    "    print('it did not work...')"
   ]
  },
  {
   "cell_type": "code",
   "execution_count": null,
   "id": "6fbce140-f6ff-41e0-bc81-9abecaa06b8c",
   "metadata": {},
   "outputs": [],
   "source": []
  }
 ],
 "metadata": {
  "kernelspec": {
   "display_name": "Python [conda env:base] *",
   "language": "python",
   "name": "conda-base-py"
  },
  "language_info": {
   "codemirror_mode": {
    "name": "ipython",
    "version": 3
   },
   "file_extension": ".py",
   "mimetype": "text/x-python",
   "name": "python",
   "nbconvert_exporter": "python",
   "pygments_lexer": "ipython3",
   "version": "3.12.7"
  }
 },
 "nbformat": 4,
 "nbformat_minor": 5
}
