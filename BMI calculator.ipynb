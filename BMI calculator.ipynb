{
 "cells": [
  {
   "cell_type": "code",
   "execution_count": 1,
   "id": "33cfc796-8b8b-44b5-a17a-f068d4506be7",
   "metadata": {},
   "outputs": [],
   "source": [
    "#bmi = (weight inpounds *307)/(height in inches * height in inches)\n",
    "#170\n",
    "#69"
   ]
  },
  {
   "cell_type": "code",
   "execution_count": 2,
   "id": "2fdb1238-ce82-4be1-a811-ec6b9014594a",
   "metadata": {},
   "outputs": [
    {
     "name": "stdin",
     "output_type": "stream",
     "text": [
      " Alex\n"
     ]
    }
   ],
   "source": [
    "weight = input()"
   ]
  },
  {
   "cell_type": "code",
   "execution_count": 3,
   "id": "e6d6212c-4ba6-4691-bb0d-c8ba05a79f70",
   "metadata": {},
   "outputs": [
    {
     "name": "stdout",
     "output_type": "stream",
     "text": [
      "Alex\n"
     ]
    }
   ],
   "source": [
    "print(weight)"
   ]
  },
  {
   "cell_type": "code",
   "execution_count": 4,
   "id": "7401c0f8-871b-41e8-b5cd-355f5a3fb39b",
   "metadata": {},
   "outputs": [
    {
     "name": "stdin",
     "output_type": "stream",
     "text": [
      "Enter your weight in  pounds: 170\n"
     ]
    }
   ],
   "source": [
    "weight = input(\"Enter your weight in  pounds:\")"
   ]
  },
  {
   "cell_type": "code",
   "execution_count": 9,
   "id": "9f309af6-4acb-43af-b835-49df22edbb8f",
   "metadata": {},
   "outputs": [
    {
     "data": {
      "text/plain": [
       "str"
      ]
     },
     "execution_count": 9,
     "metadata": {},
     "output_type": "execute_result"
    }
   ],
   "source": [
    "type(weight)"
   ]
  },
  {
   "cell_type": "code",
   "execution_count": 8,
   "id": "c287a269-eb91-462b-b5f0-0455767f4496",
   "metadata": {},
   "outputs": [
    {
     "name": "stdout",
     "output_type": "stream",
     "text": [
      "170\n"
     ]
    }
   ],
   "source": [
    "print(weight)"
   ]
  },
  {
   "cell_type": "code",
   "execution_count": 13,
   "id": "5f10668c-f89d-4085-9dff-bdc0e0bc3281",
   "metadata": {},
   "outputs": [
    {
     "name": "stdin",
     "output_type": "stream",
     "text": [
      "Enter your weight in  pounds: 170\n",
      "Enter your height in  inches: 69\n"
     ]
    }
   ],
   "source": [
    "weight = int(input(\"Enter your weight in  pounds:\"))\n",
    "\n",
    "height = int(input(\"Enter your height in  inches:\"))\n",
    "\n",
    "bmi = (weight *703)/(height* height)\n",
    "\n",
    "print(bmi)"
   ]
  },
  {
   "cell_type": "code",
   "execution_count": 14,
   "id": "dd34814d-ee01-4fac-bb52-d80a1b09738e",
   "metadata": {},
   "outputs": [
    {
     "name": "stdout",
     "output_type": "stream",
     "text": [
      "25.101869355177485\n"
     ]
    }
   ],
   "source": [
    "print(bmi)"
   ]
  },
  {
   "cell_type": "code",
   "execution_count": 15,
   "id": "fbb76ba7-7374-42f7-90f1-965af8151b6b",
   "metadata": {},
   "outputs": [
    {
     "name": "stdout",
     "output_type": "stream",
     "text": [
      "you are over weight.\n"
     ]
    }
   ],
   "source": [
    "if bmi >0 :\n",
    "    if(bmi < 18.5):\n",
    "        print(\"you are underweight.\")\n",
    "    elif(bmi <= 24.9):\n",
    "        print(\"you are normal weight.\")\n",
    "    elif(bmi <29,9):\n",
    "        print(\"you are over weight.\")\n",
    "    else:\n",
    "        print(\"enter valid inputs\")"
   ]
  },
  {
   "cell_type": "code",
   "execution_count": 21,
   "id": "6102b618-2ffe-4a2f-a114-71728d0c2ac9",
   "metadata": {},
   "outputs": [
    {
     "name": "stdin",
     "output_type": "stream",
     "text": [
      "Enter your name: alex\n",
      "Enter your weight in  pounds: -170\n",
      "Enter your height in  inches: 69\n"
     ]
    },
    {
     "name": "stdout",
     "output_type": "stream",
     "text": [
      "-25.101869355177485\n",
      "enter valid inputs\n"
     ]
    }
   ],
   "source": [
    "name = input(\"Enter your name:\")\n",
    "\n",
    "weight = int(input(\"Enter your weight in  pounds:\"))\n",
    "\n",
    "height = int(input(\"Enter your height in  inches:\"))\n",
    "\n",
    "bmi = (weight *703)/(height* height)\n",
    "\n",
    "print(bmi)\n",
    "\n",
    "if bmi >0 :\n",
    "    if(bmi < 18.5):\n",
    "        print(name+\",you are underweight.\")\n",
    "    elif(bmi <= 24.9):\n",
    "        print(name+\",you are normal weight.\")\n",
    "    elif(bmi <29.9):\n",
    "        print(name+\",you are over weight.\")\n",
    "    elif(bmi <34.9):\n",
    "        print(name+\",you are obese.\")\n",
    "    elif(bmi <39.9):\n",
    "        print(name+\",you are severely obese.\")\n",
    "    else:\n",
    "        print(name+\",you are morbidly obese\")\n",
    "else:\n",
    "    print(\"enter valid inputs\")\n",
    "\n"
   ]
  },
  {
   "cell_type": "code",
   "execution_count": 18,
   "id": "56b35887-2f7f-4328-99ec-f715c4eca773",
   "metadata": {},
   "outputs": [
    {
     "name": "stdout",
     "output_type": "stream",
     "text": [
      "Alex,you are over weight.\n"
     ]
    }
   ],
   "source": [
    "if bmi >0 :\n",
    "    if(bmi < 18.5):\n",
    "        print(name+\",you are underweight.\")\n",
    "    elif(bmi <= 24.9):\n",
    "        print(name+\",you are normal weight.\")\n",
    "    elif(bmi <29.9):\n",
    "        print(name+\",you are over weight.\")\n",
    "    elif(bmi <34.9):\n",
    "        print(name+\",you are obese.\")\n",
    "    elif(bmi <39.9):\n",
    "        print(name+\",you are severely obese.\")\n",
    "    else:\n",
    "        print(name+\",you are morbidly obese\")\n",
    "else:\n",
    "    print(\"enter valid inputs\")"
   ]
  },
  {
   "cell_type": "code",
   "execution_count": null,
   "id": "a140e8d4-2dcd-4c79-ba8e-eae3700b535c",
   "metadata": {},
   "outputs": [],
   "source": []
  }
 ],
 "metadata": {
  "kernelspec": {
   "display_name": "Python [conda env:base] *",
   "language": "python",
   "name": "conda-base-py"
  },
  "language_info": {
   "codemirror_mode": {
    "name": "ipython",
    "version": 3
   },
   "file_extension": ".py",
   "mimetype": "text/x-python",
   "name": "python",
   "nbconvert_exporter": "python",
   "pygments_lexer": "ipython3",
   "version": "3.12.7"
  }
 },
 "nbformat": 4,
 "nbformat_minor": 5
}
