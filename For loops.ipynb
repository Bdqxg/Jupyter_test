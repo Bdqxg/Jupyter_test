{
 "cells": [
  {
   "cell_type": "code",
   "execution_count": 1,
   "id": "7ad9213a-2d0b-4503-8472-59dfb830882f",
   "metadata": {},
   "outputs": [],
   "source": [
    "integers =[1,2,3,4,5]"
   ]
  },
  {
   "cell_type": "code",
   "execution_count": 2,
   "id": "d262ec51-dc3f-4ab1-bb57-e92a342d2442",
   "metadata": {},
   "outputs": [
    {
     "name": "stdout",
     "output_type": "stream",
     "text": [
      "1\n",
      "2\n",
      "3\n",
      "4\n",
      "5\n"
     ]
    }
   ],
   "source": [
    "for number in integers:\n",
    "    print(number)"
   ]
  },
  {
   "cell_type": "code",
   "execution_count": 3,
   "id": "9d0955b8-7a5a-4488-bdeb-e90a73228138",
   "metadata": {},
   "outputs": [
    {
     "name": "stdout",
     "output_type": "stream",
     "text": [
      "2\n",
      "3\n",
      "4\n",
      "5\n",
      "6\n"
     ]
    }
   ],
   "source": [
    "for number in integers:\n",
    "    print(number+1)"
   ]
  },
  {
   "cell_type": "code",
   "execution_count": 4,
   "id": "b95300ee-411e-4305-b2f5-a3a02acb475e",
   "metadata": {},
   "outputs": [
    {
     "name": "stdout",
     "output_type": "stream",
     "text": [
      "yep\n",
      "yep\n",
      "yep\n",
      "yep\n",
      "yep\n"
     ]
    }
   ],
   "source": [
    "for number in integers:\n",
    "    print('yep')"
   ]
  },
  {
   "cell_type": "code",
   "execution_count": 5,
   "id": "77a21c29-1592-4878-bb63-c05bed7ae752",
   "metadata": {},
   "outputs": [],
   "source": [
    "integers =[1,2,3,4,5]"
   ]
  },
  {
   "cell_type": "code",
   "execution_count": 6,
   "id": "803559c6-048d-437e-a465-a2193b36013f",
   "metadata": {},
   "outputs": [
    {
     "name": "stdout",
     "output_type": "stream",
     "text": [
      "2\n",
      "4\n",
      "6\n",
      "8\n",
      "10\n"
     ]
    }
   ],
   "source": [
    "for jelly in integers:\n",
    "    print(jelly+jelly)"
   ]
  },
  {
   "cell_type": "code",
   "execution_count": 7,
   "id": "f4595d8f-ab31-45da-81c6-d454e2e7a1d9",
   "metadata": {},
   "outputs": [],
   "source": [
    "ice_cream_dict = {'name':'Alex Freberg', 'weekily intake':5, 'favorite ice creams':['MCC','Chololate']}"
   ]
  },
  {
   "cell_type": "code",
   "execution_count": 8,
   "id": "fba0ba1e-88d3-4b18-87ee-6f9cab245cfa",
   "metadata": {},
   "outputs": [
    {
     "name": "stdout",
     "output_type": "stream",
     "text": [
      "Alex Freberg\n",
      "5\n",
      "['MCC', 'Chololate']\n"
     ]
    }
   ],
   "source": [
    "for cream in ice_cream_dict.values():\n",
    "    print(cream)"
   ]
  },
  {
   "cell_type": "code",
   "execution_count": 9,
   "id": "f712a6a6-b199-4b8d-af85-bc95ec12d0df",
   "metadata": {},
   "outputs": [
    {
     "name": "stdout",
     "output_type": "stream",
     "text": [
      "name -> Alex Freberg\n",
      "weekily intake -> 5\n",
      "favorite ice creams -> ['MCC', 'Chololate']\n"
     ]
    }
   ],
   "source": [
    "for key, value in ice_cream_dict.items():\n",
    "    print(key, '->',value)"
   ]
  },
  {
   "cell_type": "code",
   "execution_count": 10,
   "id": "ad9b9738-0449-4d29-b171-a16f345879bd",
   "metadata": {},
   "outputs": [
    {
     "data": {
      "text/plain": [
       "dict_items([('name', 'Alex Freberg'), ('weekily intake', 5), ('favorite ice creams', ['MCC', 'Chololate'])])"
      ]
     },
     "execution_count": 10,
     "metadata": {},
     "output_type": "execute_result"
    }
   ],
   "source": [
    "ice_cream_dict.items()"
   ]
  },
  {
   "cell_type": "code",
   "execution_count": 11,
   "id": "0b210e4c-06c4-47a3-8504-8266f2366b88",
   "metadata": {},
   "outputs": [],
   "source": [
    "#nested for loops"
   ]
  },
  {
   "cell_type": "code",
   "execution_count": 13,
   "id": "8935e9ee-88e6-439f-b490-18c3fe7aedfe",
   "metadata": {},
   "outputs": [],
   "source": [
    "flavors = ['Vanilla','Chololate','Cookie dough']\n",
    "toppings = ['Hot Fudge','Oreos','Marshmallows']"
   ]
  },
  {
   "cell_type": "code",
   "execution_count": 14,
   "id": "7fd4cb75-9dc5-4069-bc04-b5e0b5fa9e90",
   "metadata": {},
   "outputs": [
    {
     "name": "stdout",
     "output_type": "stream",
     "text": [
      "Vanilla topped with Hot Fudge\n",
      "Vanilla topped with Oreos\n",
      "Vanilla topped with Marshmallows\n",
      "Chololate topped with Hot Fudge\n",
      "Chololate topped with Oreos\n",
      "Chololate topped with Marshmallows\n",
      "Cookie dough topped with Hot Fudge\n",
      "Cookie dough topped with Oreos\n",
      "Cookie dough topped with Marshmallows\n"
     ]
    }
   ],
   "source": [
    "for one in flavors:\n",
    "    for two in toppings:\n",
    "        print(one,'topped with', two)"
   ]
  },
  {
   "cell_type": "code",
   "execution_count": null,
   "id": "87cbd5a7-3254-4c41-97c7-35465dbcbb4c",
   "metadata": {},
   "outputs": [],
   "source": []
  }
 ],
 "metadata": {
  "kernelspec": {
   "display_name": "Python [conda env:base] *",
   "language": "python",
   "name": "conda-base-py"
  },
  "language_info": {
   "codemirror_mode": {
    "name": "ipython",
    "version": 3
   },
   "file_extension": ".py",
   "mimetype": "text/x-python",
   "name": "python",
   "nbconvert_exporter": "python",
   "pygments_lexer": "ipython3",
   "version": "3.12.7"
  }
 },
 "nbformat": 4,
 "nbformat_minor": 5
}
