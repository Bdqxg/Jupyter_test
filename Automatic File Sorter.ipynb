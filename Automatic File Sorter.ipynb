{
 "cells": [
  {
   "cell_type": "code",
   "execution_count": 1,
   "id": "2477a190-6cc8-4899-8d07-79ad97b622f9",
   "metadata": {},
   "outputs": [],
   "source": [
    "import os, shutil"
   ]
  },
  {
   "cell_type": "code",
   "execution_count": 8,
   "id": "919dd4e5-7561-47fe-8a5d-ffda39ac2997",
   "metadata": {},
   "outputs": [],
   "source": [
    "path = r\"/Users/jinyichen/Downloads/Test_python/\""
   ]
  },
  {
   "cell_type": "code",
   "execution_count": 9,
   "id": "35eea6a0-54d3-4fbd-bd3b-b2aca7b21f84",
   "metadata": {},
   "outputs": [
    {
     "data": {
      "text/plain": [
       "['train_test.png',\n",
       " 'Commodities_Received_20240515_141624_UTC_03_00.xlsx',\n",
       " 'Inlands-Ueberweisung_381_339055600_20250505_135054.pdf',\n",
       " 'mesh_1.png']"
      ]
     },
     "execution_count": 9,
     "metadata": {},
     "output_type": "execute_result"
    }
   ],
   "source": [
    "os.listdir(path)"
   ]
  },
  {
   "cell_type": "code",
   "execution_count": 10,
   "id": "d0a46f27-f345-4f12-a4d7-6180da63f66a",
   "metadata": {},
   "outputs": [
    {
     "data": {
      "text/plain": [
       "False"
      ]
     },
     "execution_count": 10,
     "metadata": {},
     "output_type": "execute_result"
    }
   ],
   "source": [
    "os.path.exists(path + 'pdf files')"
   ]
  },
  {
   "cell_type": "code",
   "execution_count": 19,
   "id": "cf521ed7-5df9-4826-8ea8-eaa5ab053f48",
   "metadata": {},
   "outputs": [
    {
     "name": "stdout",
     "output_type": "stream",
     "text": [
      "/Users/jinyichen/Downloads/Test_python/csv files\n"
     ]
    }
   ],
   "source": [
    "folder_names =['pdf files','image files', 'csv files']\n",
    "\n",
    "for loop in range(0,3):\n",
    "  if not os.path.exists(path + folder_names[loop]):\n",
    "      print(path + folder_names[loop])\n",
    "      os.makedirs(path + folder_names[loop])"
   ]
  },
  {
   "cell_type": "code",
   "execution_count": 22,
   "id": "060aacd8-82d1-44af-92cc-91043e05bb59",
   "metadata": {},
   "outputs": [],
   "source": [
    "file_name =os.listdir(path)\n",
    "for file in file_name:\n",
    "    if \".xlsx\" in file and not os.path.exists(path + 'csv files/'+file):\n",
    "         shutil.move(path+file, path + 'csv files/'+file)\n",
    "    elif \".png\" in file and not os.path.exists(path + 'image files/'+file):\n",
    "         shutil.move(path+file, path + 'image files/'+file)\n",
    "    elif \".pdf\" in file and not os.path.exists(path + 'pdf files/'+file):\n",
    "         shutil.move(path+file, path + 'pdf files/'+file)\n",
    "#    else:\n",
    "#        print(\"There are files in this path that were not moved\")\n",
    "\n",
    "#can run this with a timer daily"
   ]
  },
  {
   "cell_type": "code",
   "execution_count": null,
   "id": "3f4c0efc-7d74-48b4-bb60-74b57ca28b8a",
   "metadata": {},
   "outputs": [],
   "source": []
  }
 ],
 "metadata": {
  "kernelspec": {
   "display_name": "Python [conda env:base] *",
   "language": "python",
   "name": "conda-base-py"
  },
  "language_info": {
   "codemirror_mode": {
    "name": "ipython",
    "version": 3
   },
   "file_extension": ".py",
   "mimetype": "text/x-python",
   "name": "python",
   "nbconvert_exporter": "python",
   "pygments_lexer": "ipython3",
   "version": "3.12.7"
  }
 },
 "nbformat": 4,
 "nbformat_minor": 5
}
